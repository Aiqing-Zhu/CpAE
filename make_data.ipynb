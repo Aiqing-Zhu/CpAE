{
 "cells": [
  {
   "cell_type": "code",
   "execution_count": 1,
   "id": "1d211018-b4a7-4c01-963d-4f326091b2c2",
   "metadata": {
    "tags": []
   },
   "outputs": [
    {
     "name": "stderr",
     "output_type": "stream",
     "text": [
      "100%|██████████████████████████████████████████████████████████████████████████████████████████████████████████████| 1200/1200 [18:34<00:00,  1.08it/s]\n"
     ]
    }
   ],
   "source": [
    "from elastic_pendulum_data import make_data\n",
    "data_filepath = 'training_data/elastic_pendulum'\n",
    "make_data(data_filepath, num_seq=1200, num_frm=60)"
   ]
  },
  {
   "cell_type": "code",
   "execution_count": 2,
   "id": "faffb0f7-09ce-4556-b1f2-dfe54e8d51aa",
   "metadata": {
    "tags": []
   },
   "outputs": [
    {
     "name": "stderr",
     "output_type": "stream",
     "text": [
      "100%|██████████████████████████████████████████████████████████████████████████████████████████████████████████████| 1200/1200 [07:07<00:00,  2.80it/s]\n"
     ]
    }
   ],
   "source": [
    "from datainfo.collect.single_pendulum.make_data import make_data\n",
    "data_filepath = 'training_data/single_pendulum'\n",
    "make_data(data_filepath, num_seq=1200, num_frm=60)"
   ]
  },
  {
   "cell_type": "code",
   "execution_count": 3,
   "id": "27a7d2f9-1e6a-4625-be51-e2a40039ccc0",
   "metadata": {},
   "outputs": [
    {
     "data": {
      "text/plain": [
       "'/home/aiqing/Image_CODE'"
      ]
     },
     "execution_count": 3,
     "metadata": {},
     "output_type": "execute_result"
    }
   ],
   "source": [
    "import os\n",
    "os.getcwd()\n"
   ]
  },
  {
   "cell_type": "code",
   "execution_count": null,
   "id": "8760b713-3ee1-4cdb-96d2-707642186efc",
   "metadata": {},
   "outputs": [],
   "source": []
  }
 ],
 "metadata": {
  "kernelspec": {
   "display_name": "Itorch",
   "language": "python",
   "name": "itorch"
  },
  "language_info": {
   "codemirror_mode": {
    "name": "ipython",
    "version": 3
   },
   "file_extension": ".py",
   "mimetype": "text/x-python",
   "name": "python",
   "nbconvert_exporter": "python",
   "pygments_lexer": "ipython3",
   "version": "3.8.17"
  }
 },
 "nbformat": 4,
 "nbformat_minor": 5
}
